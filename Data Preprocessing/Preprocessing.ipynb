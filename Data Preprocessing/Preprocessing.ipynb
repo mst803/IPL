{
 "cells": [
  {
   "cell_type": "code",
   "execution_count": 63,
   "id": "e93c28f7",
   "metadata": {},
   "outputs": [],
   "source": [
    "import numpy as np\n",
    "import pandas as pd\n",
    "import random\n",
    "import seaborn as sns\n",
    "from fuzzywuzzy import fuzz"
   ]
  },
  {
   "cell_type": "code",
   "execution_count": 64,
   "id": "6a0d1323",
   "metadata": {},
   "outputs": [],
   "source": [
    "df=pd.read_csv(\"final.csv\")"
   ]
  },
  {
   "cell_type": "code",
   "execution_count": 65,
   "id": "4c64e1be",
   "metadata": {},
   "outputs": [],
   "source": [
    "df['total_runs'] = df.groupby(['id', 'batting_team'])['batsman_runs'].transform('sum')"
   ]
  },
  {
   "cell_type": "code",
   "execution_count": 66,
   "id": "0598ddff",
   "metadata": {
    "scrolled": true
   },
   "outputs": [
    {
     "name": "stdout",
     "output_type": "stream",
     "text": [
      "2023    21168\n",
      "2022    17912\n",
      "2020    14510\n",
      "2019    14293\n",
      "2018    14286\n",
      "2016    14096\n",
      "2017    13849\n",
      "2015    13641\n",
      "Name: Year, dtype: int64\n"
     ]
    }
   ],
   "source": [
    "print(df.Year.value_counts())"
   ]
  },
  {
   "cell_type": "code",
   "execution_count": 67,
   "id": "a8dd1cd4",
   "metadata": {},
   "outputs": [
    {
     "data": {
      "text/plain": [
       "(123755, 14)"
      ]
     },
     "execution_count": 67,
     "metadata": {},
     "output_type": "execute_result"
    }
   ],
   "source": [
    "df.shape"
   ]
  },
  {
   "cell_type": "code",
   "execution_count": 68,
   "id": "d20b26cd",
   "metadata": {},
   "outputs": [
    {
     "data": {
      "text/html": [
       "<div>\n",
       "<style scoped>\n",
       "    .dataframe tbody tr th:only-of-type {\n",
       "        vertical-align: middle;\n",
       "    }\n",
       "\n",
       "    .dataframe tbody tr th {\n",
       "        vertical-align: top;\n",
       "    }\n",
       "\n",
       "    .dataframe thead th {\n",
       "        text-align: right;\n",
       "    }\n",
       "</style>\n",
       "<table border=\"1\" class=\"dataframe\">\n",
       "  <thead>\n",
       "    <tr style=\"text-align: right;\">\n",
       "      <th></th>\n",
       "      <th>id</th>\n",
       "      <th>inning</th>\n",
       "      <th>over</th>\n",
       "      <th>ball</th>\n",
       "      <th>batsman</th>\n",
       "      <th>bowler</th>\n",
       "      <th>batsman_runs</th>\n",
       "      <th>is_wicket</th>\n",
       "      <th>venue</th>\n",
       "      <th>toss_decision</th>\n",
       "      <th>batting_team</th>\n",
       "      <th>bowling_team</th>\n",
       "      <th>Year</th>\n",
       "      <th>total_runs</th>\n",
       "    </tr>\n",
       "  </thead>\n",
       "  <tbody>\n",
       "    <tr>\n",
       "      <th>0</th>\n",
       "      <td>1312200</td>\n",
       "      <td>1</td>\n",
       "      <td>0</td>\n",
       "      <td>1</td>\n",
       "      <td>YBK Jaiswal</td>\n",
       "      <td>Mohammed Shami</td>\n",
       "      <td>0</td>\n",
       "      <td>0</td>\n",
       "      <td>Narendra Modi Stadium, Ahmedabad</td>\n",
       "      <td>bat</td>\n",
       "      <td>Rajasthan Royals</td>\n",
       "      <td>Gujarat Titans</td>\n",
       "      <td>2022</td>\n",
       "      <td>252</td>\n",
       "    </tr>\n",
       "    <tr>\n",
       "      <th>1</th>\n",
       "      <td>1312200</td>\n",
       "      <td>1</td>\n",
       "      <td>0</td>\n",
       "      <td>2</td>\n",
       "      <td>YBK Jaiswal</td>\n",
       "      <td>Mohammed Shami</td>\n",
       "      <td>0</td>\n",
       "      <td>0</td>\n",
       "      <td>Narendra Modi Stadium, Ahmedabad</td>\n",
       "      <td>bat</td>\n",
       "      <td>Rajasthan Royals</td>\n",
       "      <td>Gujarat Titans</td>\n",
       "      <td>2022</td>\n",
       "      <td>252</td>\n",
       "    </tr>\n",
       "    <tr>\n",
       "      <th>2</th>\n",
       "      <td>1312200</td>\n",
       "      <td>1</td>\n",
       "      <td>0</td>\n",
       "      <td>3</td>\n",
       "      <td>JC Buttler</td>\n",
       "      <td>Mohammed Shami</td>\n",
       "      <td>1</td>\n",
       "      <td>0</td>\n",
       "      <td>Narendra Modi Stadium, Ahmedabad</td>\n",
       "      <td>bat</td>\n",
       "      <td>Rajasthan Royals</td>\n",
       "      <td>Gujarat Titans</td>\n",
       "      <td>2022</td>\n",
       "      <td>252</td>\n",
       "    </tr>\n",
       "    <tr>\n",
       "      <th>3</th>\n",
       "      <td>1312200</td>\n",
       "      <td>1</td>\n",
       "      <td>0</td>\n",
       "      <td>4</td>\n",
       "      <td>YBK Jaiswal</td>\n",
       "      <td>Mohammed Shami</td>\n",
       "      <td>0</td>\n",
       "      <td>0</td>\n",
       "      <td>Narendra Modi Stadium, Ahmedabad</td>\n",
       "      <td>bat</td>\n",
       "      <td>Rajasthan Royals</td>\n",
       "      <td>Gujarat Titans</td>\n",
       "      <td>2022</td>\n",
       "      <td>252</td>\n",
       "    </tr>\n",
       "    <tr>\n",
       "      <th>4</th>\n",
       "      <td>1312200</td>\n",
       "      <td>1</td>\n",
       "      <td>0</td>\n",
       "      <td>5</td>\n",
       "      <td>YBK Jaiswal</td>\n",
       "      <td>Mohammed Shami</td>\n",
       "      <td>0</td>\n",
       "      <td>0</td>\n",
       "      <td>Narendra Modi Stadium, Ahmedabad</td>\n",
       "      <td>bat</td>\n",
       "      <td>Rajasthan Royals</td>\n",
       "      <td>Gujarat Titans</td>\n",
       "      <td>2022</td>\n",
       "      <td>252</td>\n",
       "    </tr>\n",
       "  </tbody>\n",
       "</table>\n",
       "</div>"
      ],
      "text/plain": [
       "        id  inning  over  ball      batsman          bowler  batsman_runs  \\\n",
       "0  1312200       1     0     1  YBK Jaiswal  Mohammed Shami             0   \n",
       "1  1312200       1     0     2  YBK Jaiswal  Mohammed Shami             0   \n",
       "2  1312200       1     0     3   JC Buttler  Mohammed Shami             1   \n",
       "3  1312200       1     0     4  YBK Jaiswal  Mohammed Shami             0   \n",
       "4  1312200       1     0     5  YBK Jaiswal  Mohammed Shami             0   \n",
       "\n",
       "   is_wicket                             venue toss_decision  \\\n",
       "0          0  Narendra Modi Stadium, Ahmedabad           bat   \n",
       "1          0  Narendra Modi Stadium, Ahmedabad           bat   \n",
       "2          0  Narendra Modi Stadium, Ahmedabad           bat   \n",
       "3          0  Narendra Modi Stadium, Ahmedabad           bat   \n",
       "4          0  Narendra Modi Stadium, Ahmedabad           bat   \n",
       "\n",
       "       batting_team    bowling_team  Year  total_runs  \n",
       "0  Rajasthan Royals  Gujarat Titans  2022         252  \n",
       "1  Rajasthan Royals  Gujarat Titans  2022         252  \n",
       "2  Rajasthan Royals  Gujarat Titans  2022         252  \n",
       "3  Rajasthan Royals  Gujarat Titans  2022         252  \n",
       "4  Rajasthan Royals  Gujarat Titans  2022         252  "
      ]
     },
     "execution_count": 68,
     "metadata": {},
     "output_type": "execute_result"
    }
   ],
   "source": [
    "df.head()"
   ]
  },
  {
   "cell_type": "code",
   "execution_count": 69,
   "id": "8c25d2d6",
   "metadata": {},
   "outputs": [
    {
     "data": {
      "text/html": [
       "<div>\n",
       "<style scoped>\n",
       "    .dataframe tbody tr th:only-of-type {\n",
       "        vertical-align: middle;\n",
       "    }\n",
       "\n",
       "    .dataframe tbody tr th {\n",
       "        vertical-align: top;\n",
       "    }\n",
       "\n",
       "    .dataframe thead th {\n",
       "        text-align: right;\n",
       "    }\n",
       "</style>\n",
       "<table border=\"1\" class=\"dataframe\">\n",
       "  <thead>\n",
       "    <tr style=\"text-align: right;\">\n",
       "      <th></th>\n",
       "      <th>id</th>\n",
       "      <th>inning</th>\n",
       "      <th>over</th>\n",
       "      <th>ball</th>\n",
       "      <th>batsman_runs</th>\n",
       "      <th>is_wicket</th>\n",
       "      <th>Year</th>\n",
       "      <th>total_runs</th>\n",
       "    </tr>\n",
       "  </thead>\n",
       "  <tbody>\n",
       "    <tr>\n",
       "      <th>count</th>\n",
       "      <td>1.237550e+05</td>\n",
       "      <td>123755.000000</td>\n",
       "      <td>123755.000000</td>\n",
       "      <td>123755.000000</td>\n",
       "      <td>123755.000000</td>\n",
       "      <td>123755.000000</td>\n",
       "      <td>123755.000000</td>\n",
       "      <td>123755.000000</td>\n",
       "    </tr>\n",
       "    <tr>\n",
       "      <th>mean</th>\n",
       "      <td>1.155811e+06</td>\n",
       "      <td>1.481936</td>\n",
       "      <td>9.235869</td>\n",
       "      <td>3.431255</td>\n",
       "      <td>1.306072</td>\n",
       "      <td>0.049444</td>\n",
       "      <td>2019.113789</td>\n",
       "      <td>189.689855</td>\n",
       "    </tr>\n",
       "    <tr>\n",
       "      <th>std</th>\n",
       "      <td>1.633610e+05</td>\n",
       "      <td>0.499676</td>\n",
       "      <td>5.689436</td>\n",
       "      <td>1.844094</td>\n",
       "      <td>1.672483</td>\n",
       "      <td>0.216795</td>\n",
       "      <td>2.737802</td>\n",
       "      <td>74.743471</td>\n",
       "    </tr>\n",
       "    <tr>\n",
       "      <th>min</th>\n",
       "      <td>8.297050e+05</td>\n",
       "      <td>1.000000</td>\n",
       "      <td>0.000000</td>\n",
       "      <td>0.000000</td>\n",
       "      <td>0.000000</td>\n",
       "      <td>0.000000</td>\n",
       "      <td>2015.000000</td>\n",
       "      <td>2.000000</td>\n",
       "    </tr>\n",
       "    <tr>\n",
       "      <th>25%</th>\n",
       "      <td>1.082604e+06</td>\n",
       "      <td>1.000000</td>\n",
       "      <td>4.000000</td>\n",
       "      <td>2.000000</td>\n",
       "      <td>0.000000</td>\n",
       "      <td>0.000000</td>\n",
       "      <td>2017.000000</td>\n",
       "      <td>145.000000</td>\n",
       "    </tr>\n",
       "    <tr>\n",
       "      <th>50%</th>\n",
       "      <td>1.178400e+06</td>\n",
       "      <td>1.000000</td>\n",
       "      <td>9.000000</td>\n",
       "      <td>3.000000</td>\n",
       "      <td>1.000000</td>\n",
       "      <td>0.000000</td>\n",
       "      <td>2019.000000</td>\n",
       "      <td>166.000000</td>\n",
       "    </tr>\n",
       "    <tr>\n",
       "      <th>75%</th>\n",
       "      <td>1.304080e+06</td>\n",
       "      <td>2.000000</td>\n",
       "      <td>14.000000</td>\n",
       "      <td>5.000000</td>\n",
       "      <td>1.000000</td>\n",
       "      <td>0.000000</td>\n",
       "      <td>2022.000000</td>\n",
       "      <td>197.000000</td>\n",
       "    </tr>\n",
       "    <tr>\n",
       "      <th>max</th>\n",
       "      <td>1.370353e+06</td>\n",
       "      <td>2.000000</td>\n",
       "      <td>19.000000</td>\n",
       "      <td>10.000000</td>\n",
       "      <td>6.000000</td>\n",
       "      <td>1.000000</td>\n",
       "      <td>2023.000000</td>\n",
       "      <td>442.000000</td>\n",
       "    </tr>\n",
       "  </tbody>\n",
       "</table>\n",
       "</div>"
      ],
      "text/plain": [
       "                 id         inning           over           ball  \\\n",
       "count  1.237550e+05  123755.000000  123755.000000  123755.000000   \n",
       "mean   1.155811e+06       1.481936       9.235869       3.431255   \n",
       "std    1.633610e+05       0.499676       5.689436       1.844094   \n",
       "min    8.297050e+05       1.000000       0.000000       0.000000   \n",
       "25%    1.082604e+06       1.000000       4.000000       2.000000   \n",
       "50%    1.178400e+06       1.000000       9.000000       3.000000   \n",
       "75%    1.304080e+06       2.000000      14.000000       5.000000   \n",
       "max    1.370353e+06       2.000000      19.000000      10.000000   \n",
       "\n",
       "        batsman_runs      is_wicket           Year     total_runs  \n",
       "count  123755.000000  123755.000000  123755.000000  123755.000000  \n",
       "mean        1.306072       0.049444    2019.113789     189.689855  \n",
       "std         1.672483       0.216795       2.737802      74.743471  \n",
       "min         0.000000       0.000000    2015.000000       2.000000  \n",
       "25%         0.000000       0.000000    2017.000000     145.000000  \n",
       "50%         1.000000       0.000000    2019.000000     166.000000  \n",
       "75%         1.000000       0.000000    2022.000000     197.000000  \n",
       "max         6.000000       1.000000    2023.000000     442.000000  "
      ]
     },
     "execution_count": 69,
     "metadata": {},
     "output_type": "execute_result"
    }
   ],
   "source": [
    "df.describe()"
   ]
  },
  {
   "cell_type": "code",
   "execution_count": 70,
   "id": "584364b8",
   "metadata": {},
   "outputs": [
    {
     "data": {
      "text/plain": [
       "<Axes: xlabel='total_runs'>"
      ]
     },
     "execution_count": 70,
     "metadata": {},
     "output_type": "execute_result"
    },
    {
     "data": {
      "image/png": "[encoded data removed]",
      "text/plain": [
       "<Figure size 640x480 with 1 Axes>"
      ]
     },
     "metadata": {},
     "output_type": "display_data"
    }
   ],
   "source": [
    "sns.boxplot(data=df,x='total_runs')"
   ]
  },
  {
   "cell_type": "code",
   "execution_count": 71,
   "id": "fb45bbbd",
   "metadata": {},
   "outputs": [],
   "source": [
    "df = df[(df['total_runs'] > 48) & (df['total_runs'] < 258)]"
   ]
  },
  {
   "cell_type": "code",
   "execution_count": 72,
   "id": "8f4108c0",
   "metadata": {},
   "outputs": [
    {
     "data": {
      "text/plain": [
       "<Axes: xlabel='total_runs'>"
      ]
     },
     "execution_count": 72,
     "metadata": {},
     "output_type": "execute_result"
    },
    {
     "data": {
      "image/png": "[encoded data removed]",
      "text/plain": [
       "<Figure size 640x480 with 1 Axes>"
      ]
     },
     "metadata": {},
     "output_type": "display_data"
    }
   ],
   "source": [
    "sns.boxplot(data=df,x='total_runs')"
   ]
  },
  {
   "cell_type": "code",
   "execution_count": 73,
   "id": "887c9bef",
   "metadata": {},
   "outputs": [
    {
     "data": {
      "text/html": [
       "<div>\n",
       "<style scoped>\n",
       "    .dataframe tbody tr th:only-of-type {\n",
       "        vertical-align: middle;\n",
       "    }\n",
       "\n",
       "    .dataframe tbody tr th {\n",
       "        vertical-align: top;\n",
       "    }\n",
       "\n",
       "    .dataframe thead th {\n",
       "        text-align: right;\n",
       "    }\n",
       "</style>\n",
       "<table border=\"1\" class=\"dataframe\">\n",
       "  <thead>\n",
       "    <tr style=\"text-align: right;\">\n",
       "      <th></th>\n",
       "      <th>id</th>\n",
       "      <th>inning</th>\n",
       "      <th>over</th>\n",
       "      <th>ball</th>\n",
       "      <th>batsman_runs</th>\n",
       "      <th>is_wicket</th>\n",
       "      <th>Year</th>\n",
       "      <th>total_runs</th>\n",
       "    </tr>\n",
       "  </thead>\n",
       "  <tbody>\n",
       "    <tr>\n",
       "      <th>count</th>\n",
       "      <td>1.013380e+05</td>\n",
       "      <td>101338.000000</td>\n",
       "      <td>101338.000000</td>\n",
       "      <td>101338.000000</td>\n",
       "      <td>101338.000000</td>\n",
       "      <td>101338.000000</td>\n",
       "      <td>101338.000000</td>\n",
       "      <td>101338.000000</td>\n",
       "    </tr>\n",
       "    <tr>\n",
       "      <th>mean</th>\n",
       "      <td>1.119631e+06</td>\n",
       "      <td>1.481014</td>\n",
       "      <td>9.212487</td>\n",
       "      <td>3.456344</td>\n",
       "      <td>1.296651</td>\n",
       "      <td>0.049587</td>\n",
       "      <td>2018.416418</td>\n",
       "      <td>158.659979</td>\n",
       "    </tr>\n",
       "    <tr>\n",
       "      <th>std</th>\n",
       "      <td>1.585888e+05</td>\n",
       "      <td>0.499642</td>\n",
       "      <td>5.682134</td>\n",
       "      <td>1.835497</td>\n",
       "      <td>1.656780</td>\n",
       "      <td>0.217090</td>\n",
       "      <td>2.527976</td>\n",
       "      <td>31.334815</td>\n",
       "    </tr>\n",
       "    <tr>\n",
       "      <th>min</th>\n",
       "      <td>8.297050e+05</td>\n",
       "      <td>1.000000</td>\n",
       "      <td>0.000000</td>\n",
       "      <td>0.000000</td>\n",
       "      <td>0.000000</td>\n",
       "      <td>0.000000</td>\n",
       "      <td>2015.000000</td>\n",
       "      <td>56.000000</td>\n",
       "    </tr>\n",
       "    <tr>\n",
       "      <th>25%</th>\n",
       "      <td>9.810010e+05</td>\n",
       "      <td>1.000000</td>\n",
       "      <td>4.000000</td>\n",
       "      <td>2.000000</td>\n",
       "      <td>0.000000</td>\n",
       "      <td>0.000000</td>\n",
       "      <td>2016.000000</td>\n",
       "      <td>140.000000</td>\n",
       "    </tr>\n",
       "    <tr>\n",
       "      <th>50%</th>\n",
       "      <td>1.136599e+06</td>\n",
       "      <td>1.000000</td>\n",
       "      <td>9.000000</td>\n",
       "      <td>3.000000</td>\n",
       "      <td>1.000000</td>\n",
       "      <td>0.000000</td>\n",
       "      <td>2018.000000</td>\n",
       "      <td>159.000000</td>\n",
       "    </tr>\n",
       "    <tr>\n",
       "      <th>75%</th>\n",
       "      <td>1.216516e+06</td>\n",
       "      <td>2.000000</td>\n",
       "      <td>14.000000</td>\n",
       "      <td>5.000000</td>\n",
       "      <td>1.000000</td>\n",
       "      <td>0.000000</td>\n",
       "      <td>2020.000000</td>\n",
       "      <td>177.000000</td>\n",
       "    </tr>\n",
       "    <tr>\n",
       "      <th>max</th>\n",
       "      <td>1.370353e+06</td>\n",
       "      <td>2.000000</td>\n",
       "      <td>19.000000</td>\n",
       "      <td>9.000000</td>\n",
       "      <td>6.000000</td>\n",
       "      <td>1.000000</td>\n",
       "      <td>2023.000000</td>\n",
       "      <td>257.000000</td>\n",
       "    </tr>\n",
       "  </tbody>\n",
       "</table>\n",
       "</div>"
      ],
      "text/plain": [
       "                 id         inning           over           ball  \\\n",
       "count  1.013380e+05  101338.000000  101338.000000  101338.000000   \n",
       "mean   1.119631e+06       1.481014       9.212487       3.456344   \n",
       "std    1.585888e+05       0.499642       5.682134       1.835497   \n",
       "min    8.297050e+05       1.000000       0.000000       0.000000   \n",
       "25%    9.810010e+05       1.000000       4.000000       2.000000   \n",
       "50%    1.136599e+06       1.000000       9.000000       3.000000   \n",
       "75%    1.216516e+06       2.000000      14.000000       5.000000   \n",
       "max    1.370353e+06       2.000000      19.000000       9.000000   \n",
       "\n",
       "        batsman_runs      is_wicket           Year     total_runs  \n",
       "count  101338.000000  101338.000000  101338.000000  101338.000000  \n",
       "mean        1.296651       0.049587    2018.416418     158.659979  \n",
       "std         1.656780       0.217090       2.527976      31.334815  \n",
       "min         0.000000       0.000000    2015.000000      56.000000  \n",
       "25%         0.000000       0.000000    2016.000000     140.000000  \n",
       "50%         1.000000       0.000000    2018.000000     159.000000  \n",
       "75%         1.000000       0.000000    2020.000000     177.000000  \n",
       "max         6.000000       1.000000    2023.000000     257.000000  "
      ]
     },
     "execution_count": 73,
     "metadata": {},
     "output_type": "execute_result"
    }
   ],
   "source": [
    "df.describe()"
   ]
  },
  {
   "cell_type": "code",
   "execution_count": 61,
   "id": "0a8d7e10",
   "metadata": {},
   "outputs": [
    {
     "data": {
      "text/plain": [
       "id               0\n",
       "inning           0\n",
       "over             0\n",
       "ball             0\n",
       "batsman          0\n",
       "bowler           0\n",
       "batsman_runs     0\n",
       "is_wicket        0\n",
       "venue            0\n",
       "toss_decision    0\n",
       "batting_team     0\n",
       "bowling_team     0\n",
       "Year             0\n",
       "total_runs       0\n",
       "dtype: int64"
      ]
     },
     "execution_count": 61,
     "metadata": {},
     "output_type": "execute_result"
    }
   ],
   "source": [
    "# The max value of ball is 11(in a single over), But we later convert the max value of balls to 6\n",
    "df.isnull().sum()"
   ]
  },
  {
   "cell_type": "code",
   "execution_count": 62,
   "id": "7a8f45b7",
   "metadata": {},
   "outputs": [
    {
     "name": "stdout",
     "output_type": "stream",
     "text": [
      "<class 'pandas.core.frame.DataFrame'>\n",
      "Int64Index: 103064 entries, 0 to 123754\n",
      "Data columns (total 14 columns):\n",
      " #   Column         Non-Null Count   Dtype \n",
      "---  ------         --------------   ----- \n",
      " 0   id             103064 non-null  int64 \n",
      " 1   inning         103064 non-null  int64 \n",
      " 2   over           103064 non-null  int64 \n",
      " 3   ball           103064 non-null  int64 \n",
      " 4   batsman        103064 non-null  object\n",
      " 5   bowler         103064 non-null  object\n",
      " 6   batsman_runs   103064 non-null  int64 \n",
      " 7   is_wicket      103064 non-null  int64 \n",
      " 8   venue          103064 non-null  object\n",
      " 9   toss_decision  103064 non-null  object\n",
      " 10  batting_team   103064 non-null  object\n",
      " 11  bowling_team   103064 non-null  object\n",
      " 12  Year           103064 non-null  int64 \n",
      " 13  total_runs     103064 non-null  int64 \n",
      "dtypes: int64(8), object(6)\n",
      "memory usage: 11.8+ MB\n"
     ]
    }
   ],
   "source": [
    "# There is not a single null value in the dataset\n",
    "df.info()"
   ]
  },
  {
   "cell_type": "code",
   "execution_count": 76,
   "id": "87528d27",
   "metadata": {},
   "outputs": [
    {
     "data": {
      "text/plain": [
       "Mumbai Indians                 12876\n",
       "Sunrisers Hyderabad            12395\n",
       "Kolkata Knight Riders          12049\n",
       "Royal Challengers Bangalore    11714\n",
       "Chennai Super Kings            10014\n",
       "Kings XI Punjab                 9933\n",
       "Rajasthan Royals                8608\n",
       "Delhi Daredevils                6580\n",
       "Delhi Capitals                  5239\n",
       "Gujarat Lions                   3558\n",
       "Rising Pune Supergiant          1900\n",
       "Gujarat Titans                  1768\n",
       "Rising Pune Supergiants         1580\n",
       "Lucknow Super Giants            1571\n",
       "Punjab Kings                    1553\n",
       "Name: batting_team, dtype: int64"
      ]
     },
     "execution_count": 76,
     "metadata": {},
     "output_type": "execute_result"
    }
   ],
   "source": [
    "df['batting_team'].value_counts()"
   ]
  },
  {
   "cell_type": "code",
   "execution_count": 77,
   "id": "9c3f9c00",
   "metadata": {},
   "outputs": [
    {
     "data": {
      "text/plain": [
       "Mumbai Indians                 13388\n",
       "Sunrisers Hyderabad            12313\n",
       "Royal Challengers Bangalore    12167\n",
       "Kolkata Knight Riders          11817\n",
       "Kings XI Punjab                 9923\n",
       "Chennai Super Kings             9459\n",
       "Rajasthan Royals                8317\n",
       "Delhi Daredevils                6392\n",
       "Delhi Capitals                  5434\n",
       "Gujarat Lions                   3540\n",
       "Gujarat Titans                  2263\n",
       "Rising Pune Supergiant          1928\n",
       "Rising Pune Supergiants         1615\n",
       "Lucknow Super Giants            1452\n",
       "Punjab Kings                    1330\n",
       "Name: bowling_team, dtype: int64"
      ]
     },
     "execution_count": 77,
     "metadata": {},
     "output_type": "execute_result"
    }
   ],
   "source": [
    "df['bowling_team'].value_counts()"
   ]
  },
  {
   "cell_type": "code",
   "execution_count": 78,
   "id": "24c6846b",
   "metadata": {},
   "outputs": [],
   "source": [
    "df['batting_team'].replace('Rising Pune Supergiant','Rising Pune Supergiants',inplace=True)\n",
    "df['bowling_team'].replace('Rising Pune Supergiant','Rising Pune Supergiants',inplace=True)"
   ]
  },
  {
   "cell_type": "code",
   "execution_count": 79,
   "id": "fec69fa5",
   "metadata": {},
   "outputs": [
    {
     "data": {
      "text/plain": [
       "Mumbai Indians                 13388\n",
       "Sunrisers Hyderabad            12313\n",
       "Royal Challengers Bangalore    12167\n",
       "Kolkata Knight Riders          11817\n",
       "Kings XI Punjab                 9923\n",
       "Chennai Super Kings             9459\n",
       "Rajasthan Royals                8317\n",
       "Delhi Daredevils                6392\n",
       "Delhi Capitals                  5434\n",
       "Rising Pune Supergiants         3543\n",
       "Gujarat Lions                   3540\n",
       "Gujarat Titans                  2263\n",
       "Lucknow Super Giants            1452\n",
       "Punjab Kings                    1330\n",
       "Name: bowling_team, dtype: int64"
      ]
     },
     "execution_count": 79,
     "metadata": {},
     "output_type": "execute_result"
    }
   ],
   "source": [
    "df['bowling_team'].value_counts()"
   ]
  },
  {
   "cell_type": "code",
   "execution_count": 173,
   "id": "13a83b4b",
   "metadata": {},
   "outputs": [],
   "source": [
    "# There are 4 columns with catagorical values, later we convert them into numericals\n"
   ]
  },
  {
   "cell_type": "code",
   "execution_count": 174,
   "id": "2a79dfab",
   "metadata": {},
   "outputs": [],
   "source": [
    "# Replacing the balls greater than 6 to a random number between 1-6\n",
    "for i in df['ball']:\n",
    "    if i>6:\n",
    "        df['ball'].replace(i,random.randint(1,6),inplace=True)\n"
   ]
  },
  {
   "cell_type": "code",
   "execution_count": 175,
   "id": "21346317",
   "metadata": {},
   "outputs": [],
   "source": [
    "# Converting the object data type of toss_decision column to boolean values by bat as true and field as false\n",
    "df['toss_decision']=df['toss_decision']=='bat'"
   ]
  },
  {
   "cell_type": "code",
   "execution_count": 176,
   "id": "8b74a65d",
   "metadata": {},
   "outputs": [],
   "source": [
    "# There are same players and venues repeated with diffrend names, we need to replace those similar names using fuzzywuuzy library\n",
    "def find_similar_names(names_list, similarity_threshold=80):\n",
    "    name_dict = {}\n",
    "    similar_names = set()\n",
    "\n",
    "    for name in names_list:\n",
    "        if name in similar_names:\n",
    "            continue\n",
    "        similar_names.add(name)\n",
    "        similar_names_list = [name]\n",
    "        for i in names_list:\n",
    "            if i != name:\n",
    "                similarity_score = fuzz.ratio(name, i)\n",
    "                if similarity_score >= similarity_threshold:\n",
    "                    similar_names.add(i)\n",
    "                    similar_names_list.append(i)\n",
    "        if len(similar_names_list) > 1:\n",
    "            name_dict[name] = similar_names_list\n",
    "\n",
    "    return name_dict"
   ]
  },
  {
   "cell_type": "code",
   "execution_count": 177,
   "id": "6834a275",
   "metadata": {},
   "outputs": [
    {
     "name": "stdout",
     "output_type": "stream",
     "text": [
      "Brabourne Stadium : ['Brabourne Stadium', 'Brabourne Stadium, Mumbai']\n",
      "Holkar Cricket Stadium : ['Holkar Cricket Stadium', 'Sharjah Cricket Stadium']\n",
      "M Chinnaswamy Stadium : ['M Chinnaswamy Stadium', 'M Chinnaswamy Stadium, Bengaluru', 'M.Chinnaswamy Stadium']\n",
      "MA Chidambaram Stadium, Chepauk : ['MA Chidambaram Stadium, Chepauk', 'MA Chidambaram Stadium, Chepauk, Chennai']\n",
      "Maharashtra Cricket Association Stadium : ['Maharashtra Cricket Association Stadium', 'Maharashtra Cricket Association Stadium, Pune', 'Saurashtra Cricket Association Stadium']\n",
      "Punjab Cricket Association IS Bindra Stadium, Mohali : ['Punjab Cricket Association IS Bindra Stadium, Mohali', 'Punjab Cricket Association IS Bindra Stadium, Mohali, Chandigarh', 'Punjab Cricket Association Stadium, Mohali']\n",
      "Rajiv Gandhi International Stadium, Uppal : ['Rajiv Gandhi International Stadium, Uppal', 'Rajiv Gandhi International Stadium, Uppal, Hyderabad']\n",
      "Sawai Mansingh Stadium : ['Sawai Mansingh Stadium', 'Sawai Mansingh Stadium, Jaipur']\n",
      "Wankhede Stadium : ['Wankhede Stadium', 'Wankhede Stadium, Mumbai']\n"
     ]
    }
   ],
   "source": [
    "# For vanue\n",
    "v=sorted(df['venue'].unique())\n",
    "dict_venue=find_similar_names(v, similarity_threshold=75)\n",
    "# Print the dictionary\n",
    "for key, value in dict_venue.items():\n",
    "    print(key, ':', value)"
   ]
  },
  {
   "cell_type": "code",
   "execution_count": 178,
   "id": "e9f0c542",
   "metadata": {},
   "outputs": [],
   "source": [
    "# making some manuel changes\n",
    "dict_venue['MA Chidambaram Stadium']=['MA Chidambaram Stadium, Chepauk, Chennai',\"MA Chidambaram Stadium, Chepauk\"]\n",
    "dict_venue['Eden Gardens']=['Eden Gardens, Kolkata']\n",
    "dict_venue['Narendra Modi Stadium']=['Narendra Modi Stadium, Ahmedabad']\n",
    "dict_venue['Arun Jaitley Stadium']=['Arun Jaitley Stadium, Delhi']\n",
    "del (dict_venue['Holkar Cricket Stadium'])"
   ]
  },
  {
   "cell_type": "code",
   "execution_count": 179,
   "id": "8f6cf716",
   "metadata": {},
   "outputs": [],
   "source": [
    "for key,value in dict_venue.items():\n",
    "    for i in value:\n",
    "        df[\"venue\"].replace(i,key,inplace=True)"
   ]
  },
  {
   "cell_type": "code",
   "execution_count": 180,
   "id": "5ba63936",
   "metadata": {},
   "outputs": [
    {
     "data": {
      "text/plain": [
       "['Arun Jaitley Stadium',\n",
       " 'Barsapara Cricket Stadium, Guwahati',\n",
       " 'Bharat Ratna Shri Atal Bihari Vajpayee Ekana Cricket Stadium, Lucknow',\n",
       " 'Brabourne Stadium',\n",
       " 'Dr DY Patil Sports Academy, Mumbai',\n",
       " 'Dr. Y.S. Rajasekhara Reddy ACA-VDCA Cricket Stadium',\n",
       " 'Dubai International Cricket Stadium',\n",
       " 'Eden Gardens',\n",
       " 'Feroz Shah Kotla',\n",
       " 'Green Park',\n",
       " 'Himachal Pradesh Cricket Association Stadium, Dharamsala',\n",
       " 'Holkar Cricket Stadium',\n",
       " 'JSCA International Stadium Complex',\n",
       " 'M Chinnaswamy Stadium',\n",
       " 'MA Chidambaram Stadium',\n",
       " 'Maharashtra Cricket Association Stadium',\n",
       " 'Narendra Modi Stadium',\n",
       " 'Punjab Cricket Association IS Bindra Stadium, Mohali',\n",
       " 'Rajiv Gandhi International Stadium, Uppal',\n",
       " 'Sardar Patel Stadium, Motera',\n",
       " 'Sawai Mansingh Stadium',\n",
       " 'Shaheed Veer Narayan Singh International Stadium',\n",
       " 'Sharjah Cricket Stadium',\n",
       " 'Sheikh Zayed Stadium',\n",
       " 'Wankhede Stadium']"
      ]
     },
     "execution_count": 180,
     "metadata": {},
     "output_type": "execute_result"
    }
   ],
   "source": [
    "sorted(df['venue'].unique())"
   ]
  },
  {
   "cell_type": "code",
   "execution_count": 181,
   "id": "8c87d90c",
   "metadata": {},
   "outputs": [
    {
     "name": "stdout",
     "output_type": "stream",
     "text": [
      "{'AN Ahmed': ['AN Ahmed', 'KK Ahmed'], 'AR Patel': ['AR Patel', 'HV Patel', 'MM Patel', 'PA Patel', 'RV Patel'], 'Anmolpreet Singh': ['Anmolpreet Singh', 'Anureet Singh'], 'B Kumar': ['B Kumar', 'P Kumar'], 'DJ Bravo': ['DJ Bravo', 'DM Bravo'], 'DJM Short': ['DJM Short', 'MW Short'], 'DL Chahar': ['DL Chahar', 'RD Chahar'], 'DR Smith': ['DR Smith', 'OF Smith', 'SPD Smith'], 'Gurkeerat Singh': ['Gurkeerat Singh', 'Anureet Singh'], 'HH Pandya': ['HH Pandya', 'KH Pandya'], 'Harpreet Singh': ['Harpreet Singh', 'Simarjeet Singh'], 'I Sharma': ['I Sharma', 'JM Sharma', 'KS Sharma', 'KV Sharma', 'MM Sharma', 'RG Sharma'], 'IK Pathan': ['IK Pathan', 'YK Pathan'], 'J Yadav': ['J Yadav', 'SA Yadav', 'UT Yadav'], 'JA Morkel': ['JA Morkel', 'M Morkel'], 'K Kartikeya': ['K Kartikeya', 'KD Karthik'], 'KJ Abbott': ['KJ Abbott', 'SA Abbott'], 'KS Bharat': ['KS Bharat', 'KS Sharma'], 'M Ashwin': ['M Ashwin', 'R Ashwin'], 'MK Pandey': ['MK Pandey', 'KH Pandya'], 'MK Tiwary': ['MK Tiwary', 'SS Tiwary'], 'MR Marsh': ['MR Marsh', 'SE Marsh'], 'Mandeep Singh': ['Mandeep Singh', 'Ramandeep Singh'], 'Mohammed Shami': ['Mohammed Shami', 'Mohammed Siraj'], 'Mohsin Khan': ['Mohsin Khan', 'Mohsin Khan (2)'], 'P Dubey': ['P Dubey', 'S Dube'], 'P Sahu': ['P Sahu', 'WP Saha'], 'PP Chawla': ['PP Chawla', 'PP Shaw'], 'R Dhawan': ['R Dhawan', 'S Dhawan'], 'S Badree': ['S Badree', 'S Nadeem'], 'SM Curran': ['SM Curran', 'TK Curran'], 'SN Khan': ['SN Khan', 'Z Khan'], 'Sanvir Singh': ['Sanvir Singh', 'Swapnil Singh'], 'Yudhvir Singh': ['Yudhvir Singh', 'Yuvraj Singh']}\n"
     ]
    }
   ],
   "source": [
    "# For players\n",
    "b=sorted(df['batsman'].unique())\n",
    "dict_bat=find_similar_names(b, similarity_threshold=75)\n",
    "print(dict_bat)"
   ]
  },
  {
   "cell_type": "code",
   "execution_count": 182,
   "id": "05f66a90",
   "metadata": {},
   "outputs": [],
   "source": [
    "# making some manuel changes\n",
    "for i in [\"batsman\",\"bowler\"]:\n",
    "    df[i].replace('RV Patel','Ripal Patel',inplace=True)\n",
    "    df[i].replace('HV Patel','Harshal Patel',inplace=True)\n",
    "    df[i].replace('AR Patel','Axar Patel',inplace=True)\n",
    "    df[i].replace('BA Stokes','Ben Stokes',inplace=True)\n",
    "    df[i].replace('CR Woakes','Chris Woakes',inplace=True)\n",
    "    df[i].replace('DA Warner','David Warner',inplace=True)\n",
    "    df[i].replace('E Lewis','Evin Lewis',inplace=True)\n",
    "    df[i].replace('HH Pandya','Hardik Pandya',inplace=True)\n",
    "    df[i].replace('KH Pandya','Krunal Pandya',inplace=True)\n",
    "    df[i].replace('I Sharma','Ishant Sharma',inplace=True)\n",
    "    df[i].replace('JM Sharma','Jitesh Sharma',inplace=True)\n",
    "    df[i].replace('MM Sharma','Mohit Sharma',inplace=True)\n",
    "    df[i].replace('RG Sharma','Rohit Sharma',inplace=True)\n",
    "    df[i].replace('YK Pathan','Yusuf Pathan',inplace=True)\n",
    "    df[i].replace('IK Pathan','Irfan Pathan',inplace=True)\n",
    "    df[i].replace('UT Yadav','Umesh Yadav',inplace=True)\n",
    "    df[i].replace('J Yadav','Jayant Yadav',inplace=True)\n",
    "    df[i].replace('SA Yadav','Suryakumar Yadav',inplace=True)\n",
    "    df[i].replace('JC Buttler','Jos Buttler',inplace=True)\n",
    "    df[i].replace('JDS Neesham','JD Neesham',inplace=True)\n",
    "    df[i].replace('JD Unadkat','Jaydev Unadkat',inplace=True)\n",
    "    df[i].replace('JO Holder','Jason Holder',inplace=True)\n",
    "    df[i].replace('KA Pollard','Kieron Pollard',inplace=True)\n",
    "    df[i].replace('M Shahrukh Khan','Shahrukh Khan',inplace=True)\n",
    "    df[i].replace('M Shami','Mohammed Shami',inplace=True)\n",
    "    df[i].replace('MC Henriques','Moises Henriques',inplace=True)\n",
    "    df[i].replace('S Dube','S Dubey',inplace=True)\n",
    "    df[i].replace('WP Saha','Wriddhiman Saha',inplace=True)\n",
    "    df[i].replace('PJ Cummins','Pat Cummins',inplace=True)\n",
    "    df[i].replace('SN Khan','Sarfaraz Khan',inplace=True)\n",
    "    df[i].replace('TH David','Tim David',inplace=True)\n",
    "    df[i].replace('V Kohli','Virat Kohli',inplace=True)\n",
    "    df[i].replace('V Shankar','Vijay Shankar',inplace=True)\n",
    "    df[i].replace('MR Marsh','Mitchell Marsh',inplace=True)\n",
    "    df[i].replace('CJ Green','C Green',inplace=True)\n",
    "    df[i].replace('GD Phillips','Glenn Phillips',inplace=True)\n",
    "    df[i].replace('JR Hazlewood','Josh Hazlewood',inplace=True)\n",
    "    df[i].replace('Mohsin Khan (2)','Mohsin Khan',inplace=True)\n",
    "    df[i].replace('Arshad Khan (2)','Arshad Khan',inplace=True)\n",
    "\n",
    "# Now we need to numerical encoding of batsman,bowler and venue\n",
    "\n",
    "# For vanue we rank them based on their size from an external sources\n",
    "\n",
    "stadium_size = {\n",
    "    'Arun Jaitley Stadium': 16,\n",
    "    'Barsapara Cricket Stadium, Guwahati': 12,\n",
    "    'Bharat Ratna Shri Atal Bihari Vajpayee Ekana Cricket Stadium, Lucknow': 13,\n",
    "    'Brabourne Stadium': 4,\n",
    "    'Dr. Y.S. Rajasekhara Reddy ACA-VDCA Cricket Stadium': 11,\n",
    "    'Dubai International Cricket Stadium': 10,\n",
    "    'Eden Gardens': 25,\n",
    "    'Feroz Shah Kotla': 14,\n",
    "    'Green Park': 15,\n",
    "    'Himachal Pradesh Cricket Association Stadium, Dharamsala': 9,\n",
    "    'Holkar Cricket Stadium': 8,\n",
    "    'JSCA International Stadium Complex': 17,\n",
    "    'M Chinnaswamy Stadium': 18,\n",
    "    'MA Chidambaram Stadium': 19,\n",
    "    'Maharashtra Cricket Association Stadium': 20,\n",
    "    'Narendra Modi Stadium': 27,\n",
    "    'Dr DY Patil Sports Academy, Mumbai':21,\n",
    "    'Punjab Cricket Association IS Bindra Stadium, Mohali': 6,\n",
    "    'Rajiv Gandhi International Stadium, Uppal': 19,\n",
    "    'Sardar Patel Stadium, Motera': 23,\n",
    "    'Saurashtra Cricket Association Stadium': 7,\n",
    "    'Sawai Mansingh Stadium': 5,\n",
    "    'Shaheed Veer Narayan Singh International Stadium': 24,\n",
    "    'Sharjah Cricket Stadium': 2,\n",
    "    'Sheikh Zayed Stadium': 3,\n",
    "    'Wankhede Stadium': 22\n",
    "}"
   ]
  },
  {
   "cell_type": "code",
   "execution_count": 183,
   "id": "c33f97e2",
   "metadata": {},
   "outputs": [],
   "source": [
    "# Now we replace the venue with the corresponding size value\n",
    "df['venue_encoded']=df['venue']\n",
    "for i,j in stadium_size.items():\n",
    "    df['venue_encoded'].replace(i,j,inplace=True)\n"
   ]
  },
  {
   "cell_type": "code",
   "execution_count": 184,
   "id": "00baf263",
   "metadata": {},
   "outputs": [],
   "source": [
    "# Encoding batsman column\n",
    "\n",
    "# Calculate the total runs for each \"batsman\"\n",
    "sum_runs = df.groupby('batsman')['batsman_runs'].sum()"
   ]
  },
  {
   "cell_type": "code",
   "execution_count": 185,
   "id": "a6145767",
   "metadata": {},
   "outputs": [],
   "source": [
    "# Calculate the total wickets for each \"batsman\"\n",
    "sum_wickets=df.groupby('batsman')['is_wicket'].sum()\n",
    "     \n",
    "batsman_constant=dict(round(sum_runs/(sum_wickets+1),2))"
   ]
  },
  {
   "cell_type": "code",
   "execution_count": 186,
   "id": "d844eac6",
   "metadata": {},
   "outputs": [
    {
     "name": "stdout",
     "output_type": "stream",
     "text": [
      "{'DG Nalkande': 0, 'JL Denly': 1, 'KK Ahmed': 2, 'KM Asif': 3, 'KR Sen': 4, 'MM Patel': 5, 'Mohsin Khan (2)': 6, 'R Sanjay Yadav': 7, 'RP Meredith': 8, 'S Kaushik': 9, 'S Lamichhane': 10, 'SS Cottrell': 11, 'Y Prithvi Raj': 12, 'Yash Dayal': 13, 'NT Ellis': 14, 'Yudhvir Singh': 15, 'B Laughlin': 16, 'DJ Muthuswami': 17, 'LE Plunkett': 18, 'A Nehra': 19, 'Harshit Rana': 20, 'AJ Turner': 21, 'S Kaul': 22, 'PJ Sangwan': 23, 'Abdul Basith': 24, 'BE Hendricks': 25, 'GC Viljoen': 26, 'HF Gurney': 27, 'J Theron': 28, 'KW Richardson': 29, 'Navdeep Saini': 30, 'SB Jakati': 31, 'WD Parnell': 32, 'TS Mills': 33, 'AF Milne': 34, 'A Tomar': 35, 'C Sakariya': 36, 'CM Gautam': 37, 'Liton Das': 38, 'Mohit Rathee': 39, 'NJ Maddinson': 40, 'RG More': 41, 'S Badree': 42, 'Ankit Soni': 43, 'IS Sodhi': 44, 'RK Bhui': 45, 'A Zampa': 46, 'Mustafizur Rahman': 47, 'Z Khan': 48, 'KS Bharat': 49, 'Noor Ahmad': 50, 'Kartik Tyagi': 51, 'Mujeeb Ur Rahman': 52, 'M Ashwin': 53, 'Azhar Mahmood': 54, 'Fazalhaq Farooqi': 55, 'K Kartikeya': 56, 'M Prasidh Krishna': 57, 'PSP Handscomb': 58, 'S Nadeem': 59, 'T Natarajan': 60, 'VG Arora': 61, 'Irfan Pathan': 62, 'Shivam Mavi': 63, 'AB Dinda': 64, 'M Theekshana': 65, 'Simarjeet Singh': 66, 'VR Aaron': 67, 'KMA Paul': 68, 'RA Bawa': 69, 'YS Chahal': 70, 'I Udana': 71, 'DR Sams': 72, 'KS Sharma': 73, 'A Dananjaya': 74, 'FA Allen': 75, 'JPR Scantlebury-Searles': 76, 'MA Wood': 77, 'P Chopra': 78, 'Swapnil Singh': 79, 'DJG Sammy': 80, 'DR Shorey': 81, 'Arshdeep Singh': 82, 'F Behardien': 83, 'Arshad Khan (2)': 84, 'AS Rajpoot': 85, 'AN Ahmed': 86, 'AP Tare': 87, 'B Stanlake': 88, 'BB Sran': 89, 'JE Root': 90, 'M Morkel': 91, 'B Indrajith': 92, 'Mohammed Shami': 93, 'DW Steyn': 94, 'KL Nagarkoti': 95, 'Karanveer Singh': 96, 'MA Starc': 97, 'Ravi Bishnoi': 98, 'Sanvir Singh': 99, 'Akash Deep': 100, 'AS Roy': 101, 'YV Dhull': 102, 'DM Bravo': 103, 'JP Behrendorff': 104, 'Jayant Yadav': 105, 'KC Cariappa': 106, 'Mukesh Choudhary': 107, 'Naveen-ul-Haq': 108, 'Parvez Rasool': 109, 'R Sathish': 110, 'Rasikh Salam': 111, 'T Banton': 112, 'CJ Jordan': 113, 'P Kumar': 114, 'GH Vihari': 115, 'NS Naik': 116, 'Ishant Sharma': 117, 'R Vinay Kumar': 118, 'PWH de Silva': 119, 'Arjun Tendulkar': 120, 'KJ Abbott': 121, 'SL Malinga': 122, 'Vijaykumar Vyshak': 123, 'Abishek Porel': 124, 'GB Hogg': 125, 'Harpreet Brar': 126, 'MJ McClenaghan': 127, 'Anureet Singh': 128, 'RD Chahar': 129, 'MN Samuels': 130, 'AU Rashid': 131, 'HE van der Dussen': 132, 'SA Abbott': 133, 'Sandeep Sharma': 134, 'JL Pattinson': 135, 'SD Lad': 136, 'CV Varun': 137, 'DS Kulkarni': 138, 'J Botha': 139, 'JJ Bumrah': 140, 'ER Dwivedi': 141, 'Glenn Phillips': 142, 'OC McCoy': 143, 'S Aravind': 144, 'TL Seifert': 145, 'Vishnu Vinod': 146, 'AD Nath': 147, 'B Kumar': 148, 'A Choudhary': 149, 'Imran Tahir': 150, 'M Jansen': 151, 'Mohammed Siraj': 152, 'NM Coulter-Nile': 153, 'Mohit Sharma': 154, 'MD Shanaka': 155, 'SP Goswami': 156, 'SP Jackson': 157, 'D Pretorius': 158, 'PP Chawla': 159, 'MG Johnson': 160, 'T Stubbs': 161, 'P Ray Barman': 162, 'NA Saini': 163, 'Umesh Yadav': 164, 'TA Boult': 165, 'DL Chahar': 166, 'PV Tambe': 167, 'AJ Tye': 168, 'RN ten Doeschate': 169, 'Chris Woakes': 170, 'TU Deshpande': 171, 'Jason Holder': 172, 'Harshal Patel': 173, 'AT Carey': 174, 'Basil Thampi': 175, 'PVD Chameera': 176, 'A Nortje': 177, 'DJ Mitchell': 178, 'J Suchith': 179, 'TG Southee': 180, 'A Mishra': 181, 'SS Prabhudessai': 182, 'SN Thakur': 183, 'Aman Hakim Khan': 184, 'Mohsin Khan': 185, 'Umran Malik': 186, 'K Rabada': 187, 'R Shepherd': 188, 'Ankit Sharma': 189, 'AR Bawne': 190, 'M Markande': 191, 'CR Brathwaite': 192, 'LH Ferguson': 193, 'MS Bisla': 194, 'V Sehwag': 195, 'JD Neesham': 196, 'R Bhatia': 197, 'OF Smith': 198, 'KV Sharma': 199, 'Jaydev Unadkat': 200, 'AS Joseph': 201, 'Avesh Khan': 202, 'Mukesh Kumar': 203, 'P Dubey': 204, 'DT Christian': 205, 'P Negi': 206, 'Ripal Patel': 207, 'DJ Willey': 208, 'SE Rutherford': 209, 'PK Garg': 210, 'K Gowtham': 211, 'S Gopal': 212, 'Shashank Singh': 213, 'MJ Santner': 214, 'NV Ojha': 215, 'MW Short': 216, 'DJM Short': 217, 'Rashid Khan': 218, 'JC Archer': 219, 'UBT Chand': 220, 'Kuldeep Yadav': 221, 'Mohammad Nabi': 222, 'R Ashwin': 223, 'Sachin Baby': 224, 'STR Binny': 225, 'Ramandeep Singh': 226, 'Washington Sundar': 227, 'MEK Hussey': 228, 'SP Narine': 229, 'HR Shokeen': 230, 'N Jagadeesan': 231, 'JR Philippe': 232, 'MS Wade': 233, 'A Manohar': 234, 'Pat Cummins': 235, 'Harbhajan Singh': 236, 'JP Faulkner': 237, 'NLTC Perera': 238, 'Shahrukh Khan': 239, 'IR Jaggi': 240, 'CA Ingram': 241, 'HC Brook': 242, 'R Powell': 243, 'AD Mathews': 244, 'C Munro': 245, 'R Dhawan': 246, 'Lalit Yadav': 247, 'M Vohra': 248, 'R Parag': 249, 'DJ Bravo': 250, 'KP Pietersen': 251, 'DJ Hooda': 252, 'SW Billings': 253, 'C de Grandhomme': 254, 'Josh Hazlewood': 255, 'P Sahu': 256, 'MK Lomror': 257, 'BCJ Cutting': 258, 'MG Bracewell': 259, 'CJ Anderson': 260, 'Gurkeerat Singh': 261, 'A Ashish Reddy': 262, 'Mandeep Singh': 263, 'D Brevis': 264, 'Shahbaz Ahmed': 265, 'Sarfaraz Khan': 266, 'Anuj Rawat': 267, 'Bipul Sharma': 268, 'MJ Guptill': 269, 'Anmolpreet Singh': 270, 'Yuvraj Singh': 271, 'Shakib Al Hasan': 272, 'AD Hales': 273, 'Dhruv Jurel': 274, 'UT Khawaja': 275, 'TK Curran': 276, 'PBB Rajapaksa': 277, 'PP Shaw': 278, 'A Badoni': 279, 'KK Nair': 280, 'MM Ali': 281, 'RR Rossouw': 282, 'Axar Patel': 283, 'GJ Maxwell': 284, 'Sikandar Raza': 285, 'Rahmanullah Gurbaz': 286, 'Krunal Pandya': 287, 'D Wiese': 288, 'MA Agarwal': 289, 'Mitchell Marsh': 290, 'Ben Stokes': 291, 'GJ Bailey': 292, 'P Simran Singh': 293, 'KM Jadhav': 294, 'Jitesh Sharma': 295, 'CH Morris': 296, 'PA Patel': 297, 'AJ Finch': 298, 'VR Iyer': 299, 'RS Bopara': 300, 'RA Jadeja': 301, 'Abhishek Sharma': 302, 'RV Uthappa': 303, 'Evin Lewis': 304, 'SM Curran': 305, 'SE Marsh': 306, 'BB McCullum': 307, 'N Wadhera': 308, 'Wriddhiman Saha': 309, 'MP Stoinis': 310, 'Rohit Sharma': 311, 'D Padikkal': 312, 'Abdul Samad': 313, 'KR Mayers': 314, 'KD Karthik': 315, 'DR Smith': 316, 'SR Watson': 317, 'Atharva Taide': 318, 'N Rana': 319, 'R Tewatia': 320, 'EJG Morgan': 321, 'Moises Henriques': 322, 'Tim David': 323, 'Kieron Pollard': 324, 'S Dubey': 325, 'RA Tripathi': 326, 'MK Pandey': 327, 'MK Tiwary': 328, 'AT Rayudu': 329, 'M Vijay': 330, 'SK Raina': 331, 'Harpreet Singh': 332, 'TM Head': 333, 'Ishan Kishan': 334, 'SV Samson': 335, 'LS Livingstone': 336, 'SO Hetmyer': 337, 'PD Salt': 338, 'AD Russell': 339, 'SS Iyer': 340, 'AM Rahane': 341, 'AK Markram': 342, 'Iqbal Abdulla': 343, 'Yusuf Pathan': 344, 'DA Miller': 345, 'G Gambhir': 346, 'Vijay Shankar': 347, 'SPD Smith': 348, 'JJ Roy': 349, 'Hardik Pandya': 350, 'AJ Hosein': 351, 'N Pooran': 352, 'JM Bairstow': 353, 'LMP Simmons': 354, 'RR Pant': 355, 'MS Dhoni': 356, 'Suryakumar Yadav': 357, 'JA Morkel': 358, 'CH Gayle': 359, 'Vivrant Sharma': 360, 'CA Lynn': 361, 'Q de Kock': 362, 'KS Williamson': 363, 'YBK Jaiswal': 364, 'SS Tiwary': 365, 'S Dhawan': 366, 'F du Plessis': 367, 'Tilak Varma': 368, 'PN Mankad': 369, 'H Klaasen': 370, 'JP Duminy': 371, 'Jos Buttler': 372, 'RD Gaikwad': 373, 'RK Singh': 374, 'Shubman Gill': 375, 'C Green': 376, 'Virat Kohli': 377, 'HM Amla': 378, 'DP Conway': 379, 'B Sai Sudharsan': 380, 'KL Rahul': 381, 'RM Patidar': 382, 'AB de Villiers': 383, 'David Warner': 384}\n"
     ]
    }
   ],
   "source": [
    "# To unique identification of batsman\n",
    "batsman_encoder={}\n",
    "for k in range(len(batsman_constant)):\n",
    "    for i,j in batsman_constant.items():\n",
    "        if j==min(batsman_constant.values()):\n",
    "            batsman_encoder[i]=k\n",
    "            del batsman_constant[i]\n",
    "            break\n",
    "\n",
    "\n",
    "print(batsman_encoder)"
   ]
  },
  {
   "cell_type": "code",
   "execution_count": 187,
   "id": "5256a76a",
   "metadata": {},
   "outputs": [],
   "source": [
    "# Ecoding using batsman_encoder\n",
    "df['batsman_encoded']=df['batsman']\n",
    "for i,j in batsman_encoder.items():\n",
    "    df['batsman_encoded'].replace(i,j,inplace=True)\n",
    "\n"
   ]
  },
  {
   "cell_type": "code",
   "execution_count": 188,
   "id": "b9853e68",
   "metadata": {},
   "outputs": [],
   "source": [
    "# Calculate the total balls by each \"bowler\"\n",
    "sum_balls = df['bowler'].value_counts()\n",
    "\n"
   ]
  },
  {
   "cell_type": "code",
   "execution_count": 189,
   "id": "a980e459",
   "metadata": {},
   "outputs": [],
   "source": [
    "# Calculate the total wickets for each \"bowler\"\n",
    "sum_wickets = df.groupby('bowler')['is_wicket'].sum()\n",
    "     \n",
    "bowler_constant = dict(round(sum_balls/300+(sum_wickets+1),2))\n",
    "\n",
    "\n",
    "bowler_encoder={}\n",
    "for k in range(len(bowler_constant)):\n",
    "    for i,j in bowler_constant.items():\n",
    "        if j==min(bowler_constant.values()):\n",
    "            bowler_encoder[i]=k\n",
    "            del bowler_constant[i]\n",
    "            break\n",
    "\n"
   ]
  },
  {
   "cell_type": "code",
   "execution_count": 190,
   "id": "dc7d45d9",
   "metadata": {},
   "outputs": [
    {
     "name": "stdout",
     "output_type": "stream",
     "text": [
      "{'YBK Jaiswal': 0, 'David Warner': 1, 'Sarfaraz Khan': 2, 'Aman Hakim Khan': 3, 'GH Vihari': 4, 'MK Tiwary': 5, 'RA Tripathi': 6, 'SS Iyer': 7, 'C Munro': 8, 'DJ Mitchell': 9, 'JE Root': 10, 'Mandeep Singh': 11, 'PP Ojha': 12, 'S Ladda': 13, 'S Midhun': 14, 'Shashank Singh': 15, 'MS Gony': 16, 'Monu Kumar': 17, 'R Sanjay Yadav': 18, 'CJ Dala': 19, 'DJG Sammy': 20, 'H Sharma': 21, 'KS Williamson': 22, 'MN Samuels': 23, 'Tilak Varma': 24, 'Gurnoor Brar': 25, 'Tejas Baroka': 26, 'A Dananjaya': 27, 'Mohit Rathee': 28, 'P Ray Barman': 29, 'VR Iyer': 30, 'M Vijay': 31, 'Nithish Kumar Reddy': 32, 'MW Short': 33, 'Vivrant Sharma': 34, 'R Goyal': 35, 'Rasikh Salam': 36, 'KR Mayers': 37, 'P Suyal': 38, 'D Brevis': 39, 'RN ten Doeschate': 40, 'RJW Topley': 41, 'DJM Short': 42, 'Shivam Sharma': 43, 'Virat Kohli': 44, 'Azhar Mahmood': 45, 'R Powell': 46, 'FA Allen': 47, 'NB Singh': 48, 'SS Agarwal': 49, 'Duan Jansen': 50, 'J Theron': 51, 'M de Lange': 52, 'Y Prithvi Raj': 53, 'RG More': 54, 'SSB Magala': 55, 'MM Patel': 56, 'SE Rutherford': 57, 'Abdul Samad': 58, 'GS Sandhu': 59, 'MK Lomror': 60, 'SA Abbott': 61, 'J Botha': 62, 'Mayank Dagar': 63, 'Swapnil Singh': 64, 'A Badoni': 65, 'T Stubbs': 66, 'Glenn Phillips': 67, 'MJ Henry': 68, 'PH Solanki': 69, 'R Sathish': 70, 'AU Rashid': 71, 'JW Hastings': 72, 'JPR Scantlebury-Searles': 73, 'AJ Hosein': 74, 'SC Kuggeleijn': 75, 'Irfan Pathan': 76, 'AN Ahmed': 77, 'AK Markram': 78, 'CH Gayle': 79, 'P Dubey': 80, 'Karanveer Singh': 81, 'S Sandeep Warrier': 82, 'KJ Abbott': 83, 'JD Neesham': 84, 'Parvez Rasool': 85, 'SB Jakati': 86, 'Sachin Baby': 87, 'Navdeep Saini': 88, 'RS Hangargekar': 89, 'SM Boland': 90, 'TM Head': 91, 'DG Nalkande': 92, 'K Yadav': 93, 'RP Singh': 94, 'Sikandar Raza': 95, 'T Shamsi': 96, 'P Sahu': 97, 'Yuvraj Singh': 98, 'R Parag': 99, 'R Shepherd': 100, 'Yudhvir Singh': 101, 'DJ Muthuswami': 102, 'Mohsin Khan (2)': 103, 'Ankit Soni': 104, 'Simarjeet Singh': 105, 'LE Plunkett': 106, 'Ankit Sharma': 107, 'SK Raina': 108, 'A Ashish Reddy': 109, 'O Thomas': 110, 'Gurkeerat Singh': 111, 'S Dubey': 112, 'Arjun Tendulkar': 113, 'Arshad Khan (2)': 114, 'A Choudhary': 115, 'AS Roy': 116, 'Akash Singh': 117, 'AF Milne': 118, 'K Khejroliya': 119, 'Yusuf Pathan': 120, 'KL Nagarkoti': 121, 'HR Shokeen': 122, 'Ramandeep Singh': 123, 'MG Bracewell': 124, 'R Sai Kishore': 125, 'JA Morkel': 126, 'KM Asif': 127, 'SS Cottrell': 128, 'Fazalhaq Farooqi': 129, 'S Kaushik': 130, 'Jayant Yadav': 131, 'BE Hendricks': 132, 'OF Smith': 133, 'Akash Deep': 134, 'B Stanlake': 135, 'C Sakariya': 136, 'D Pretorius': 137, 'HF Gurney': 138, 'Lalit Yadav': 139, 'AD Mathews': 140, 'Abhishek Sharma': 141, 'DJ Willey': 142, 'C de Grandhomme': 143, 'Shahbaz Ahmed': 144, 'KW Richardson': 145, 'RS Bopara': 146, 'GC Viljoen': 147, 'KR Sen': 148, 'Vijay Shankar': 149, 'I Udana': 150, 'KC Cariappa': 151, 'DW Steyn': 152, 'DJ Hooda': 153, 'R Bhatia': 154, 'B Laughlin': 155, 'S Badree': 156, 'WD Parnell': 157, 'Harshit Rana': 158, 'TK Curran': 159, 'IS Sodhi': 160, 'LS Livingstone': 161, 'PJ Sangwan': 162, 'JP Duminy': 163, 'KMA Paul': 164, 'N Rana': 165, 'CJ Anderson': 166, 'K Kartikeya': 167, 'BCJ Cutting': 168, 'C Green': 169, 'R Dhawan': 170, 'MA Wood': 171, 'Vijaykumar Vyshak': 172, 'OC McCoy': 173, 'IC Pandey': 174, 'DR Smith': 175, 'TS Mills': 176, 'JL Pattinson': 177, 'Mukesh Kumar': 178, 'NLTC Perera': 179, 'VG Arora': 180, 'PVD Chameera': 181, 'Mohammad Nabi': 182, 'Naveen-ul-Haq': 183, 'Bipul Sharma': 184, 'J Little': 185, 'Suyash Sharma': 186, 'PV Tambe': 187, 'Kartik Tyagi': 188, 'Iqbal Abdulla': 189, 'MJ Santner': 190, 'Mohsin Khan': 191, 'S Lamichhane': 192, 'STR Binny': 193, 'DR Sams': 194, 'Kieron Pollard': 195, 'GB Hogg': 196, 'AB Dinda': 197, 'Yash Dayal': 198, 'CR Brathwaite': 199, 'Mukesh Choudhary': 200, 'DT Christian': 201, 'Akash Madhwal': 202, 'D Wiese': 203, 'RP Meredith': 204, 'R Vinay Kumar': 205, 'Harpreet Brar': 206, 'Mujeeb Ur Rahman': 207, 'Yash Thakur': 208, 'J Suchith': 209, 'Anureet Singh': 210, 'VR Aaron': 211, 'NT Ellis': 212, 'M Jansen': 213, 'BB Sran': 214, 'JP Faulkner': 215, 'Noor Ahmad': 216, 'Shivam Mavi': 217, 'MA Starc': 218, 'M Morkel': 219, 'L Ngidi': 220, 'NA Saini': 221, 'AS Joseph': 222, 'S Nadeem': 223, 'AS Rajpoot': 224, 'MG Johnson': 225, 'K Gowtham': 226, 'P Kumar': 227, 'JP Behrendorff': 228, 'M Theekshana': 229, 'R Tewatia': 230, 'Mitchell Marsh': 231, 'Chris Woakes': 232, 'Josh Hazlewood': 233, 'S Aravind': 234, 'Basil Thampi': 235, 'Moises Henriques': 236, 'GJ Maxwell': 237, 'Shakib Al Hasan': 238, 'M Pathirana': 239, 'A Zampa': 240, 'P Negi': 241, 'Umran Malik': 242, 'TU Deshpande': 243, 'MM Ali': 244, 'CJ Jordan': 245, 'LH Ferguson': 246, 'Ben Stokes': 247, 'Ishant Sharma': 248, 'Z Khan': 249, 'Avesh Khan': 250, 'M Ashwin': 251, 'PWH de Silva': 252, 'Washington Sundar': 253, 'M Markande': 254, 'SM Curran': 255, 'Pat Cummins': 256, 'Jason Holder': 257, 'Mustafizur Rahman': 258, 'MP Stoinis': 259, 'M Prasidh Krishna': 260, 'NM Coulter-Nile': 261, 'SR Watson': 262, 'A Nortje': 263, 'S Gopal': 264, 'CV Varun': 265, 'A Nehra': 266, 'DS Kulkarni': 267, 'KV Sharma': 268, 'AJ Tye': 269, 'Ravi Bishnoi': 270, 'S Kaul': 271, 'TG Southee': 272, 'Arshdeep Singh': 273, 'JC Archer': 274, 'SL Malinga': 275, 'T Natarajan': 276, 'RD Chahar': 277, 'Hardik Pandya': 278, 'KK Ahmed': 279, 'Harbhajan Singh': 280, 'Jaydev Unadkat': 281, 'DL Chahar': 282, 'A Mishra': 283, 'Mohammed Siraj': 284, 'CH Morris': 285, 'Imran Tahir': 286, 'Harshal Patel': 287, 'MJ McClenaghan': 288, 'SN Thakur': 289, 'Krunal Pandya': 290, 'Kuldeep Yadav': 291, 'PP Chawla': 292, 'RA Jadeja': 293, 'Axar Patel': 294, 'Umesh Yadav': 295, 'Mohit Sharma': 296, 'AD Russell': 297, 'K Rabada': 298, 'R Ashwin': 299, 'SP Narine': 300, 'TA Boult': 301, 'DJ Bravo': 302, 'Sandeep Sharma': 303, 'Mohammed Shami': 304, 'JJ Bumrah': 305, 'Rashid Khan': 306, 'B Kumar': 307, 'YS Chahal': 308}\n"
     ]
    }
   ],
   "source": [
    "print(bowler_encoder)\n",
    "\n",
    "# Ecoding using bowler_encoder\n",
    "df['bowler_encoded']=df['bowler']\n",
    "for i,j in bowler_encoder.items():\n",
    "    df['bowler_encoded'].replace(i,j,inplace=True)\n",
    "\n"
   ]
  },
  {
   "cell_type": "code",
   "execution_count": 191,
   "id": "c9c2c726",
   "metadata": {},
   "outputs": [
    {
     "data": {
      "text/plain": [
       "599"
      ]
     },
     "execution_count": 191,
     "metadata": {},
     "output_type": "execute_result"
    }
   ],
   "source": [
    "df.duplicated().sum()"
   ]
  },
  {
   "cell_type": "code",
   "execution_count": 192,
   "id": "71a8f8fe",
   "metadata": {},
   "outputs": [],
   "source": [
    "df.drop_duplicates(inplace=True)"
   ]
  },
  {
   "cell_type": "code",
   "execution_count": 193,
   "id": "0b727a53",
   "metadata": {},
   "outputs": [
    {
     "data": {
      "text/plain": [
       "0"
      ]
     },
     "execution_count": 193,
     "metadata": {},
     "output_type": "execute_result"
    }
   ],
   "source": [
    "df.duplicated().sum()"
   ]
  },
  {
   "cell_type": "code",
   "execution_count": 163,
   "id": "365cf97e",
   "metadata": {},
   "outputs": [
    {
     "name": "stdout",
     "output_type": "stream",
     "text": [
      "<class 'pandas.core.frame.DataFrame'>\n",
      "Int64Index: 123265 entries, 0 to 123754\n",
      "Data columns (total 16 columns):\n",
      " #   Column           Non-Null Count   Dtype \n",
      "---  ------           --------------   ----- \n",
      " 0   id               123265 non-null  int64 \n",
      " 1   inning           123265 non-null  int64 \n",
      " 2   over             123265 non-null  int64 \n",
      " 3   ball             123265 non-null  int64 \n",
      " 4   batsman          123265 non-null  object\n",
      " 5   bowler           123265 non-null  object\n",
      " 6   batsman_runs     123265 non-null  int64 \n",
      " 7   is_wicket        123265 non-null  int64 \n",
      " 8   venue            123265 non-null  object\n",
      " 9   toss_decision    123265 non-null  bool  \n",
      " 10  batting_team     123265 non-null  object\n",
      " 11  bowling_team     123265 non-null  object\n",
      " 12  Year             123265 non-null  int64 \n",
      " 13  venue_encoded    123265 non-null  int64 \n",
      " 14  batsman_encoded  123265 non-null  int64 \n",
      " 15  bowler_encoded   123265 non-null  int64 \n",
      "dtypes: bool(1), int64(10), object(5)\n",
      "memory usage: 15.2+ MB\n"
     ]
    }
   ],
   "source": [
    "df.info()"
   ]
  },
  {
   "cell_type": "code",
   "execution_count": 162,
   "id": "fdfb8826",
   "metadata": {},
   "outputs": [],
   "source": [
    "df.to_csv(\"processed.csv\",index=False)"
   ]
  },
  {
   "cell_type": "code",
   "execution_count": null,
   "id": "5bd23b3d",
   "metadata": {},
   "outputs": [],
   "source": []
  }
 ],
 "metadata": {
  "kernelspec": {
   "display_name": "Python 3 (ipykernel)",
   "language": "python",
   "name": "python3"
  },
  "language_info": {
   "codemirror_mode": {
    "name": "ipython",
    "version": 3
   },
   "file_extension": ".py",
   "mimetype": "text/x-python",
   "name": "python",
   "nbconvert_exporter": "python",
   "pygments_lexer": "ipython3",
   "version": "3.11.2"
  }
 },
 "nbformat": 4,
 "nbformat_minor": 5
}
